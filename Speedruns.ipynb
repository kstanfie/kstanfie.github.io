{
 "cells": [
  {
   "cell_type": "markdown",
   "id": "vertical-contamination",
   "metadata": {},
   "source": [
    "!pip install jupyter\n",
    "!jupyter nbconvert --to html Speedruns.ipynb"
   ]
  },
  {
   "cell_type": "markdown",
   "id": "grand-speaking",
   "metadata": {},
   "source": [
    "# Data Science Pipeline\n",
    "Kyle Stanfield, University of Maryland\n",
    "## Preliminary Goals\n",
    "The Data Science pipeline can be a complex beast to tackle; from thinking about which data to use all the way to predictions and heavy analysis.\n",
    "\n",
    "The pipeline consists of the following steps:\n",
    "* Data Collection\n",
    "* Data Management/Tidying\n",
    "* Exploratory Analysis\n",
    "* Hypothesis Testing\n",
    "* Communication of Insights\n",
    "\n",
    "This demonstration will walk through all of the steps, explaining first and foremost what can help you get into the correct headspace to approach each one! While the code may be specific to my chosen dataset and goals, the ideas within are extensible to data science as a whole.\n",
    "\n",
    "The preliminary step to everything next is to think of what data you want to look at. It has to exist to be collected and analyzed."
   ]
  },
  {
   "cell_type": "markdown",
   "id": "third-negotiation",
   "metadata": {},
   "source": [
    "## Speedrun Analysis\n",
    "Analyzing how timed speedruns of the game Dark Souls 3 have advanced since its release on March 24, 2016.\n",
    "\n",
    "This data (and related analysis) will be compared against the dates in which speed-enhancing explots or techniques were developed, to show their effects over time.\n",
    "\n",
    "speedrun.com, the data source I have chosen, has a well-documented API for sourcing specific data. The breadth of information they have to store in dynamic tables (with copious amounts of metadata) means that scraping this data without an API would take an unreasonable amount of time without more experience.\n",
    "\n",
    "API documentation found at https://github.com/speedruncomorg/api"
   ]
  },
  {
   "cell_type": "markdown",
   "id": "clean-sleep",
   "metadata": {},
   "source": [
    "## Data Collection\n",
    "The aforementioned API lets us access data by pulling in json-formatted information. json interacts very well with Python as a simple and scalable data \"structure.\" "
   ]
  },
  {
   "cell_type": "code",
   "execution_count": 79,
   "id": "selective-detection",
   "metadata": {},
   "outputs": [],
   "source": [
    "# To begin, this is where we will start (and continue to add) libraries\n",
    "# necessary to collect, organize, and analyze our data.\n",
    "import requests as req\n",
    "import pandas as pd\n",
    "import numpy as np\n",
    "from bs4 import BeautifulSoup as bs\n",
    "import datetime as dt\n",
    "import matplotlib.pyplot as plt\n",
    "import json\n",
    "import seaborn as sns"
   ]
  },
  {
   "cell_type": "markdown",
   "id": "dramatic-grounds",
   "metadata": {},
   "source": [
    "### ALL CURRENT RUNS\n",
    "I would like to find all current runs submitted for the game Dark Souls III,\n",
    "under the run category Any%. According to the API, that information is located at this link:\n",
    "\n",
    "https://www.speedrun.com/api/v1/runs?game=k6qg0xdg&max=200\n",
    "\n",
    "Exploring these json structures through the browser first, before import, will allow you to become familiar with the overall data structure and which patterns it holds."
   ]
  },
  {
   "cell_type": "markdown",
   "id": "cardiac-funeral",
   "metadata": {},
   "source": [
    "Once we explore the structure, we can pick out exactly what information we need/want to analyze. This makes it so that we are not dealing with an overload of unnecessary data.\n",
    "\n",
    "In Pandas, storing this information takes the form of a large table known as a dataframe. \n",
    "\n",
    "The columns of the dataframe holding run data will be:\n",
    "\n",
    "**index** - index of run (index of dataframe, not actual column)\n",
    "\n",
    "**players** - tuple containing status of player (user or guest) and 'None' if guest or their unique ID if user.\n",
    "\n",
    "**date** - date of run, not of submission.\n",
    "\n",
    "**times.primary_t** - primary submission time, used for leaderboard.\n",
    "\n",
    "**times.ingame_t** - ingame time only, just in case. In the case of techniques involving quitting the game, restarting the game, etc.; ingame time is used to describe only the amount of time spent in-game.\n",
    "\n",
    "The columns above are just features of the internal json, how the site is designed. The structure of the dataframe is not necessarily decided beforehand, but after we intake and prune the data."
   ]
  },
  {
   "cell_type": "code",
   "execution_count": 80,
   "id": "crucial-carol",
   "metadata": {},
   "outputs": [],
   "source": [
    "# Initializing empty dataframe for harvest method\n",
    "runsdf = pd.DataFrame()"
   ]
  },
  {
   "cell_type": "markdown",
   "id": "cheap-herald",
   "metadata": {},
   "source": [
    "When looking at the pages online, note that they are paginated. In this specific structure, that means that there is a section for raw data and a section that links to the next and previous pages of the data.\n",
    "\n",
    "Because this is a structure choice, and not an inherent feature of json, the below method is necessary to get all of the data recursively and in one call.\n",
    "\n",
    "Knowing the structure means that when we reach end-of-page, we know to:\n",
    "1. If it has a 'prev' and a 'next' in the list of links, get the second link (which is 'next').\n",
    "2. If it is the first page, it will not have a 'prev', but there will be a 'next' in the first slot of the list. If so, get the link.\n",
    "3. If there is only 'prev' and no 'next', the end of pages is reached, and we can return the full dataframe."
   ]
  },
  {
   "cell_type": "code",
   "execution_count": 81,
   "id": "expanded-prospect",
   "metadata": {},
   "outputs": [],
   "source": [
    "## HARVEST ##\n",
    "# This method relies on the structure of the speedrun.com API\n",
    "# It is designed to get the json data from each runs page,\n",
    "# normalize it into a pandas dataframe, and append it to the \n",
    "# above empty dataframe (or whichever dataframe is supplied).\n",
    "def add_runs(url, df):\n",
    "    r = req.get(url)\n",
    "    data = r.json()\n",
    "    # ignore_index true to get resultant dataframe with fresh indices.\n",
    "    df = df.append(pd.json_normalize(data['data']), ignore_index = True)\n",
    "    if len(data['pagination']['links']) == 2:\n",
    "        return add_runs(data['pagination']['links'][1]['uri'], df)\n",
    "    elif data['pagination']['links'][0].get('rel') == 'next':\n",
    "        return add_runs(data['pagination']['links'][0]['uri'], df)\n",
    "    else:\n",
    "        return df"
   ]
  },
  {
   "cell_type": "markdown",
   "id": "common-recommendation",
   "metadata": {},
   "source": [
    "Python's 'json' library is very good at taking in raw json and turning it into a nested dict with easily-iterable keys. Printing and exploring this dict ('data' in the above method) manually before intaking the data to Pandas is necessary once again to be familiar with the structure and where the data we want is located.\n",
    "\n",
    "The function 'pd.json_normalize()' is specialized to flatten a json file into a Pandas dataframe. While you should still check your data for correctness and structure, it is a great starting point for getting data into a frame as quickly as possible."
   ]
  },
  {
   "cell_type": "code",
   "execution_count": 82,
   "id": "future-circular",
   "metadata": {},
   "outputs": [],
   "source": [
    "# using the 'page 0' link to the Any% data to begin.\n",
    "runsdf = add_runs('https://www.speedrun.com/api/v1/runs?game=k6qg0xdg&max=200', runsdf)"
   ]
  },
  {
   "cell_type": "markdown",
   "id": "prerequisite-clarity",
   "metadata": {},
   "source": [
    "While it would be foolish to try and vet the entire dataset by eye, displaying more than the head or tail of the dataframe is useful for knowing what units the data is in, making sure that all columns are present, and learning the names of the columns to be called."
   ]
  },
  {
   "cell_type": "code",
   "execution_count": 83,
   "id": "crazy-sherman",
   "metadata": {
    "scrolled": true
   },
   "outputs": [
    {
     "data": {
      "text/html": [
       "<div>\n",
       "<style scoped>\n",
       "    .dataframe tbody tr th:only-of-type {\n",
       "        vertical-align: middle;\n",
       "    }\n",
       "\n",
       "    .dataframe tbody tr th {\n",
       "        vertical-align: top;\n",
       "    }\n",
       "\n",
       "    .dataframe thead th {\n",
       "        text-align: right;\n",
       "    }\n",
       "</style>\n",
       "<table border=\"1\" class=\"dataframe\">\n",
       "  <thead>\n",
       "    <tr style=\"text-align: right;\">\n",
       "      <th></th>\n",
       "      <th>id</th>\n",
       "      <th>weblink</th>\n",
       "      <th>game</th>\n",
       "      <th>level</th>\n",
       "      <th>category</th>\n",
       "      <th>...</th>\n",
       "      <th>system.region</th>\n",
       "      <th>status.reason</th>\n",
       "      <th>splits.rel</th>\n",
       "      <th>splits.uri</th>\n",
       "      <th>videos</th>\n",
       "    </tr>\n",
       "  </thead>\n",
       "  <tbody>\n",
       "    <tr>\n",
       "      <th>0</th>\n",
       "      <td>oy2ej8wy</td>\n",
       "      <td>https://www.speedrun.com/darksouls3/run/oy2ej8wy</td>\n",
       "      <td>k6qg0xdg</td>\n",
       "      <td>None</td>\n",
       "      <td>xk9lx0gk</td>\n",
       "      <td>...</td>\n",
       "      <td>None</td>\n",
       "      <td>NaN</td>\n",
       "      <td>NaN</td>\n",
       "      <td>NaN</td>\n",
       "      <td>NaN</td>\n",
       "    </tr>\n",
       "    <tr>\n",
       "      <th>1</th>\n",
       "      <td>2yw6gppm</td>\n",
       "      <td>https://www.speedrun.com/darksouls3/run/2yw6gppm</td>\n",
       "      <td>k6qg0xdg</td>\n",
       "      <td>None</td>\n",
       "      <td>xk9lx0gk</td>\n",
       "      <td>...</td>\n",
       "      <td>None</td>\n",
       "      <td>NaN</td>\n",
       "      <td>NaN</td>\n",
       "      <td>NaN</td>\n",
       "      <td>NaN</td>\n",
       "    </tr>\n",
       "    <tr>\n",
       "      <th>2</th>\n",
       "      <td>pm3x0v6m</td>\n",
       "      <td>https://www.speedrun.com/darksouls3/run/pm3x0v6m</td>\n",
       "      <td>k6qg0xdg</td>\n",
       "      <td>None</td>\n",
       "      <td>xk9lx0gk</td>\n",
       "      <td>...</td>\n",
       "      <td>None</td>\n",
       "      <td>no vid</td>\n",
       "      <td>NaN</td>\n",
       "      <td>NaN</td>\n",
       "      <td>NaN</td>\n",
       "    </tr>\n",
       "    <tr>\n",
       "      <th>3</th>\n",
       "      <td>0y6xg26y</td>\n",
       "      <td>https://www.speedrun.com/darksouls3/run/0y6xg26y</td>\n",
       "      <td>k6qg0xdg</td>\n",
       "      <td>None</td>\n",
       "      <td>n2y143z2</td>\n",
       "      <td>...</td>\n",
       "      <td>None</td>\n",
       "      <td>can you reupload to youtube? I don't have prem...</td>\n",
       "      <td>NaN</td>\n",
       "      <td>NaN</td>\n",
       "      <td>NaN</td>\n",
       "    </tr>\n",
       "    <tr>\n",
       "      <th>4</th>\n",
       "      <td>8yv0npoz</td>\n",
       "      <td>https://www.speedrun.com/darksouls3/run/8yv0npoz</td>\n",
       "      <td>k6qg0xdg</td>\n",
       "      <td>None</td>\n",
       "      <td>n2y143z2</td>\n",
       "      <td>...</td>\n",
       "      <td>None</td>\n",
       "      <td>duplicate</td>\n",
       "      <td>NaN</td>\n",
       "      <td>NaN</td>\n",
       "      <td>NaN</td>\n",
       "    </tr>\n",
       "    <tr>\n",
       "      <th>...</th>\n",
       "      <td>...</td>\n",
       "      <td>...</td>\n",
       "      <td>...</td>\n",
       "      <td>...</td>\n",
       "      <td>...</td>\n",
       "      <td>...</td>\n",
       "      <td>...</td>\n",
       "      <td>...</td>\n",
       "      <td>...</td>\n",
       "      <td>...</td>\n",
       "      <td>...</td>\n",
       "    </tr>\n",
       "    <tr>\n",
       "      <th>1756</th>\n",
       "      <td>z1rewg9m</td>\n",
       "      <td>https://www.speedrun.com/darksouls3/run/z1rewg9m</td>\n",
       "      <td>k6qg0xdg</td>\n",
       "      <td>None</td>\n",
       "      <td>7kjz1ond</td>\n",
       "      <td>...</td>\n",
       "      <td>None</td>\n",
       "      <td>NaN</td>\n",
       "      <td>NaN</td>\n",
       "      <td>NaN</td>\n",
       "      <td>NaN</td>\n",
       "    </tr>\n",
       "    <tr>\n",
       "      <th>1757</th>\n",
       "      <td>m7drp60m</td>\n",
       "      <td>https://www.speedrun.com/darksouls3/run/m7drp60m</td>\n",
       "      <td>k6qg0xdg</td>\n",
       "      <td>None</td>\n",
       "      <td>xk9lx0gk</td>\n",
       "      <td>...</td>\n",
       "      <td>None</td>\n",
       "      <td>https://youtu.be/Rzoui9rKVi8?t=300 Runners are...</td>\n",
       "      <td>NaN</td>\n",
       "      <td>NaN</td>\n",
       "      <td>NaN</td>\n",
       "    </tr>\n",
       "    <tr>\n",
       "      <th>1758</th>\n",
       "      <td>zp17revz</td>\n",
       "      <td>https://www.speedrun.com/darksouls3/run/zp17revz</td>\n",
       "      <td>k6qg0xdg</td>\n",
       "      <td>None</td>\n",
       "      <td>jdzvw3xk</td>\n",
       "      <td>...</td>\n",
       "      <td>None</td>\n",
       "      <td>NaN</td>\n",
       "      <td>NaN</td>\n",
       "      <td>NaN</td>\n",
       "      <td>NaN</td>\n",
       "    </tr>\n",
       "    <tr>\n",
       "      <th>1759</th>\n",
       "      <td>mkgj5e5y</td>\n",
       "      <td>https://www.speedrun.com/darksouls3/run/mkgj5e5y</td>\n",
       "      <td>k6qg0xdg</td>\n",
       "      <td>None</td>\n",
       "      <td>xk9r81gk</td>\n",
       "      <td>...</td>\n",
       "      <td>None</td>\n",
       "      <td>NaN</td>\n",
       "      <td>NaN</td>\n",
       "      <td>NaN</td>\n",
       "      <td>NaN</td>\n",
       "    </tr>\n",
       "    <tr>\n",
       "      <th>1760</th>\n",
       "      <td>mkgjek5y</td>\n",
       "      <td>https://www.speedrun.com/darksouls3/run/mkgjek5y</td>\n",
       "      <td>k6qg0xdg</td>\n",
       "      <td>None</td>\n",
       "      <td>xk9r81gk</td>\n",
       "      <td>...</td>\n",
       "      <td>None</td>\n",
       "      <td>NaN</td>\n",
       "      <td>NaN</td>\n",
       "      <td>NaN</td>\n",
       "      <td>NaN</td>\n",
       "    </tr>\n",
       "  </tbody>\n",
       "</table>\n",
       "<p>1761 rows × 30 columns</p>\n",
       "</div>"
      ],
      "text/plain": [
       "            id                                           weblink      game  \\\n",
       "0     oy2ej8wy  https://www.speedrun.com/darksouls3/run/oy2ej8wy  k6qg0xdg   \n",
       "1     2yw6gppm  https://www.speedrun.com/darksouls3/run/2yw6gppm  k6qg0xdg   \n",
       "2     pm3x0v6m  https://www.speedrun.com/darksouls3/run/pm3x0v6m  k6qg0xdg   \n",
       "3     0y6xg26y  https://www.speedrun.com/darksouls3/run/0y6xg26y  k6qg0xdg   \n",
       "4     8yv0npoz  https://www.speedrun.com/darksouls3/run/8yv0npoz  k6qg0xdg   \n",
       "...        ...                                               ...       ...   \n",
       "1756  z1rewg9m  https://www.speedrun.com/darksouls3/run/z1rewg9m  k6qg0xdg   \n",
       "1757  m7drp60m  https://www.speedrun.com/darksouls3/run/m7drp60m  k6qg0xdg   \n",
       "1758  zp17revz  https://www.speedrun.com/darksouls3/run/zp17revz  k6qg0xdg   \n",
       "1759  mkgj5e5y  https://www.speedrun.com/darksouls3/run/mkgj5e5y  k6qg0xdg   \n",
       "1760  mkgjek5y  https://www.speedrun.com/darksouls3/run/mkgjek5y  k6qg0xdg   \n",
       "\n",
       "     level  category  ... system.region  \\\n",
       "0     None  xk9lx0gk  ...          None   \n",
       "1     None  xk9lx0gk  ...          None   \n",
       "2     None  xk9lx0gk  ...          None   \n",
       "3     None  n2y143z2  ...          None   \n",
       "4     None  n2y143z2  ...          None   \n",
       "...    ...       ...  ...           ...   \n",
       "1756  None  7kjz1ond  ...          None   \n",
       "1757  None  xk9lx0gk  ...          None   \n",
       "1758  None  jdzvw3xk  ...          None   \n",
       "1759  None  xk9r81gk  ...          None   \n",
       "1760  None  xk9r81gk  ...          None   \n",
       "\n",
       "                                          status.reason splits.rel splits.uri  \\\n",
       "0                                                   NaN        NaN        NaN   \n",
       "1                                                   NaN        NaN        NaN   \n",
       "2                                                no vid        NaN        NaN   \n",
       "3     can you reupload to youtube? I don't have prem...        NaN        NaN   \n",
       "4                                             duplicate        NaN        NaN   \n",
       "...                                                 ...        ...        ...   \n",
       "1756                                                NaN        NaN        NaN   \n",
       "1757  https://youtu.be/Rzoui9rKVi8?t=300 Runners are...        NaN        NaN   \n",
       "1758                                                NaN        NaN        NaN   \n",
       "1759                                                NaN        NaN        NaN   \n",
       "1760                                                NaN        NaN        NaN   \n",
       "\n",
       "     videos  \n",
       "0       NaN  \n",
       "1       NaN  \n",
       "2       NaN  \n",
       "3       NaN  \n",
       "4       NaN  \n",
       "...     ...  \n",
       "1756    NaN  \n",
       "1757    NaN  \n",
       "1758    NaN  \n",
       "1759    NaN  \n",
       "1760    NaN  \n",
       "\n",
       "[1761 rows x 30 columns]"
      ]
     },
     "metadata": {},
     "output_type": "display_data"
    }
   ],
   "source": [
    "with pd.option_context('display.max_rows',100, 'display.max_columns', 10):\n",
    "    display(runsdf)"
   ]
  },
  {
   "cell_type": "markdown",
   "id": "funny-smoke",
   "metadata": {},
   "source": [
    "## Data Management/Tidying"
   ]
  },
  {
   "cell_type": "code",
   "execution_count": 84,
   "id": "flying-minority",
   "metadata": {},
   "outputs": [],
   "source": [
    "# turning 'players' column into a tuple (x, y), where\n",
    "# 'x' is either 'user' or 'guest', and y is either a userID or 'none' respectively.\n",
    "runsdf['players'] = runsdf['players'].apply(lambda x: (x[0].get('rel'), x[0].get('id')))\n",
    "runsdf['times.primary_t'] = runsdf['times.primary_t'].apply(lambda x: x/60)"
   ]
  },
  {
   "cell_type": "markdown",
   "id": "desperate-bruce",
   "metadata": {},
   "source": [
    "In this dataset, we're going to prune:\n",
    "1. Rejected runs\n",
    "2. Runs that are subjectively too far from the main grouping.\n",
    "3. Runs that are below the current record (illegitimate, just in case). "
   ]
  },
  {
   "cell_type": "code",
   "execution_count": 85,
   "id": "restricted-asset",
   "metadata": {},
   "outputs": [],
   "source": [
    "# marking data outside of our interest as 'NA' so it can be dropped when plotting.\n",
    "runsdf.loc[(runsdf['times.primary_t'] < 1900/60), 'times.primary_t'] = pd.NA\n",
    "runsdf.loc[(runsdf['times.primary_t'] > 17000/60), 'times.primary_t'] = pd.NA\n",
    "# removing rejected runs as well\n",
    "runsdf.loc[(runsdf['status.status'] == 'rejected'), 'status.status'] = pd.NA\n",
    "# changing date column to real datetime\n",
    "runsdf['date'] = pd.to_datetime(runsdf['date'], format='%Y-%m-%d')"
   ]
  },
  {
   "cell_type": "markdown",
   "id": "juvenile-woman",
   "metadata": {},
   "source": [
    "Because Pandas dataframes default to simple and unspecific 'object' data-types for each column. This provides a base for us to convert to any data type we would like, for processing purposes.\n",
    "\n",
    "We convert the 'date' column to a formatted datetime type so that our graphing libraries (matplotlib, seaborn) can interpret them properly on the scales rather than using string comparisons."
   ]
  },
  {
   "cell_type": "code",
   "execution_count": 86,
   "id": "distinguished-least",
   "metadata": {},
   "outputs": [
    {
     "name": "stdout",
     "output_type": "stream",
     "text": [
      "<class 'pandas.core.frame.DataFrame'>\n",
      "Int64Index: 1698 entries, 0 to 1760\n",
      "Data columns (total 5 columns):\n",
      " #   Column           Non-Null Count  Dtype         \n",
      "---  ------           --------------  -----         \n",
      " 0   id               1698 non-null   object        \n",
      " 1   players          1698 non-null   object        \n",
      " 2   date             1698 non-null   datetime64[ns]\n",
      " 3   times.primary_t  1698 non-null   object        \n",
      " 4   times.ingame_t   1698 non-null   float64       \n",
      "dtypes: datetime64[ns](1), float64(1), object(3)\n",
      "memory usage: 79.6+ KB\n"
     ]
    }
   ],
   "source": [
    "# cutting down dataframe columns to described format, metadata largely discarded.\n",
    "prunedrsdf = runsdf[['id', 'players','date','times.primary_t','times.ingame_t']]\n",
    "prunedrsdf.dropna().info()"
   ]
  },
  {
   "cell_type": "markdown",
   "id": "changing-spanish",
   "metadata": {},
   "source": [
    "Commands like the above '.info()' can be helpful to know the data types of your dataframe, and if dropping the 'NA' rows worked to reduce the total number. Double-checking your data is key!"
   ]
  },
  {
   "cell_type": "markdown",
   "id": "convenient-terminology",
   "metadata": {},
   "source": [
    "## Exploratory Data Analysis\n",
    "You can only see what I've finally decided on for plots below, but understand that they went through quite a few iterations! \n",
    "\n",
    "You might start with calling the 'df.plot' function on the dataframe, or a basic seaborn plot, specifying only the x and y-volumns. This gives the roughest idea of what your data will look like. From there you can set limits, colors, titles, axis labels, trend lines, and more. "
   ]
  },
  {
   "cell_type": "code",
   "execution_count": 104,
   "id": "driving-hopkins",
   "metadata": {},
   "outputs": [],
   "source": [
    "%%capture\n",
    "# preformatting for a second plot later. \n",
    "# 'sharey' is set to true so that they share the same y-axis scale,\n",
    "# making them easier to compare visually.\n",
    "fig, ax = plt.subplots(2, 1, figsize=(10, 8), sharey=True)\n",
    "\n",
    "# using dropna() to prune the data for plotting.\n",
    "sns.scatterplot(data=prunedrsdf.dropna(), x='date',y='times.primary_t', ax=ax[0], palette='cividis', hue='times.primary_t')\n",
    "# limits \n",
    "ax[0].set_ylim(bottom=1500/60, top=17000/60)\n",
    "ax[0].set_title('All Valid Runs From Release (03/2016) to Present (07/2021)')\n",
    "ax[0].legend(bbox_to_anchor=(1.25, 1), loc='upper right')"
   ]
  },
  {
   "cell_type": "markdown",
   "id": "mathematical-steering",
   "metadata": {},
   "source": [
    "Seaborn and matplotlib plots are highly customizable. Whether you just want to make the colors better, or you want to set limits and fine-tune how the data shows up, their individual documentations hold a wealth of knowledge.\n",
    "\n",
    "Each and any visual representation of your data should be able to show something interesting on its own, or with a small caption for hard-to-spot patterns. \n",
    "\n",
    "Notice that I didn't want my plot shown above just yet, as I am still waiting for the second plot. '%%capture' is a Jupyter line-magic function that suppresses output. Useful when you don't want a half-baked plot to be shown."
   ]
  },
  {
   "cell_type": "markdown",
   "id": "surprising-criterion",
   "metadata": {},
   "source": [
    "### CURRENT LEADERBOARD\n",
    "I'm going to repeat almost the same data gathering process as above, but this time with a different piece of the speedrun.com data. This page holds all runs of the current leaderboard. The names of the columns will be different to above, but the data they contain will be in the same format. "
   ]
  },
  {
   "cell_type": "code",
   "execution_count": 88,
   "id": "tender-quick",
   "metadata": {},
   "outputs": [],
   "source": [
    "dks3lb = req.get('https://www.speedrun.com/api/v1/leaderboards/k6qg0xdg/category/n2y143z2')"
   ]
  },
  {
   "cell_type": "markdown",
   "id": "respective-spell",
   "metadata": {},
   "source": [
    "Because the data in this piece is not paginated, there is no need to use the function we defined earlier. It can be taken in one 'json()' call."
   ]
  },
  {
   "cell_type": "code",
   "execution_count": 89,
   "id": "cooperative-video",
   "metadata": {},
   "outputs": [],
   "source": [
    "jsonlbs = dks3lb.json()"
   ]
  },
  {
   "cell_type": "code",
   "execution_count": 90,
   "id": "standing-parking",
   "metadata": {},
   "outputs": [],
   "source": [
    "# cutting out the unnecessary accesses to make \n",
    "leaderboard = jsonlbs['data']['runs']"
   ]
  },
  {
   "cell_type": "code",
   "execution_count": 91,
   "id": "understanding-education",
   "metadata": {},
   "outputs": [],
   "source": [
    "# flattening json to dataframe. we will prune this in a moment for the\n",
    "# relatively low number of columns we need.\n",
    "leaderdf = pd.json_normalize(leaderboard)"
   ]
  },
  {
   "cell_type": "code",
   "execution_count": 92,
   "id": "prospective-geometry",
   "metadata": {},
   "outputs": [],
   "source": [
    "# turning 'players' column into a tuple, as above, (x, y)\n",
    "# where x is 'user' or 'guest', and y is their ID or 'None' respectively.\n",
    "leaderdf['run.players'] = leaderdf['run.players'].apply(lambda x: (x[0].get('rel'), x[0].get('id')))"
   ]
  },
  {
   "cell_type": "code",
   "execution_count": 93,
   "id": "upset-pledge",
   "metadata": {},
   "outputs": [],
   "source": [
    "# changing date column to real datetime\n",
    "leaderdf['run.date'] = pd.to_datetime(leaderdf['run.date'], format='%Y-%m-%d')\n",
    "leaderdf['run.times.primary_t'] = leaderdf['run.times.primary_t'].apply(lambda x: x/60)"
   ]
  },
  {
   "cell_type": "markdown",
   "id": "sapphire-vision",
   "metadata": {},
   "source": [
    "Following what we did above for the 'runs' dataframe, we will take only the same relevant data as determined above. If this changes, you can always (as long as the source still exists) remake the dataframe(s) with additional columns still included."
   ]
  },
  {
   "cell_type": "code",
   "execution_count": 94,
   "id": "czech-clark",
   "metadata": {},
   "outputs": [],
   "source": [
    "prunedlbdf = leaderdf[['place','run.id','run.date','run.times.primary_t', 'run.players']]"
   ]
  },
  {
   "cell_type": "code",
   "execution_count": 115,
   "id": "concrete-measure",
   "metadata": {},
   "outputs": [
    {
     "data": {
      "image/png": "[encoded data removed]",
      "text/plain": [
       "<Figure size 720x576 with 2 Axes>"
      ]
     },
     "execution_count": 115,
     "metadata": {},
     "output_type": "execute_result"
    }
   ],
   "source": [
    "# leaderboard-specific plot adjustments\n",
    "sns.lineplot(data=prunedlbdf, x='place', y='run.times.primary_t' ,color='hotpink', ax=ax[1])\n",
    "sns.scatterplot(data=prunedlbdf, x='run.date',y='run.times.primary_t', color='hotpink', ax=ax[0])\n",
    "# descending order of place\n",
    "ax[1].invert_xaxis()\n",
    "ax[1].set_title('Time vs. Place On Current Top 65 Leaderboard')\n",
    "\n",
    "# general figure adjustments and titling\n",
    "fig.subplots_adjust(hspace=0.5)\n",
    "fig.suptitle('Dark Souls III Current General and Leaderboard Runs', weight='bold', size='x-large')\n",
    "fig"
   ]
  },
  {
   "cell_type": "markdown",
   "id": "spare-metadata",
   "metadata": {},
   "source": [
    "Since we set up a figure with two plot axes earlier, and populated the first with all of the runs; we can fill in the rest here. The pink dots on the first figure are the current leaderboard runs ovecrlaid onto the scatterplot of all runs that we created earlier.\n",
    "\n",
    "The second lineplot is a rough estimate of what the first-place spot on the leaderboard looked like over time. Notice that the x-axis is not sorted by date. This is because the leaderboard data does not track the movement of the first-place spot. It merely tracks when the current places were uploaded.\n",
    "\n",
    "However, this means that as new leaderboard spots were filled and pushed others back, the first-place spot (or surrounding places) would be improved by smaller margins.\n",
    "\n",
    "One more thing to notice in the first figure is that, from release to roughly 2020, the game held relatively consistent submission rates and times, with a strange gap between 50 and 100 minutes.\n",
    "\n",
    "In 2020 and continuing to 2021, the submission rate exploded, closing the mentioned gap and heavily increasing the point density.\n",
    "\n",
    "We can also see that the current leaderboard runs, regardless of place, do not appear to be concentrated in one year or another. Rather, the current leaderboard is made up of records from all throughout the game's timeline. "
   ]
  },
  {
   "cell_type": "code",
   "execution_count": null,
   "id": "complete-coordinator",
   "metadata": {},
   "outputs": [],
   "source": []
  }
 ],
 "metadata": {
  "kernelspec": {
   "display_name": "Python 3",
   "language": "python",
   "name": "python3"
  },
  "language_info": {
   "codemirror_mode": {
    "name": "ipython",
    "version": 3
   },
   "file_extension": ".py",
   "mimetype": "text/x-python",
   "name": "python",
   "nbconvert_exporter": "python",
   "pygments_lexer": "ipython3",
   "version": "3.8.6"
  }
 },
 "nbformat": 4,
 "nbformat_minor": 5
}
